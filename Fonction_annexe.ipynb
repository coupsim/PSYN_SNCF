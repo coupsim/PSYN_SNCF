{
 "cells": [
  {
   "cell_type": "code",
   "execution_count": 12,
   "metadata": {},
   "outputs": [],
   "source": [
    "import numpy as np\n"
   ]
  },
  {
   "cell_type": "markdown",
   "metadata": {},
   "source": [
    "# train_split_test"
   ]
  },
  {
   "cell_type": "code",
   "execution_count": null,
   "metadata": {},
   "outputs": [],
   "source": [
    "def custom_train_test_split(X, y,test_size, random_state, stratify=None):\n",
    "    np.random.seed(random_state)\n",
    "    \n",
    "    X = np.array(X)\n",
    "    y = np.array(y)\n",
    "    \n",
    "    if stratify is not None:\n",
    "        unique_classes, class_counts = np.unique(y, return_counts=True)\n",
    "        X_train, X_test, y_train, y_test = [], [], [], []\n",
    "        #Pour chaque classe\n",
    "        for class_label, count in zip(unique_classes, class_counts):\n",
    "            #Recupere les indices des elements de la classe\n",
    "            indices = np.where(y == class_label)[0]\n",
    "            #Melange les indices\n",
    "            np.random.shuffle(indices)\n",
    "            #Calcul le nombre d'element a mettre dans le test\n",
    "            test_count = int(count * test_size)\n",
    "            #Recupere les indices des elements a mettre dans le test\n",
    "            test_indices = indices[:test_count]\n",
    "            #Recupere les indices des elements a mettre dans le train\n",
    "            train_indices = indices[test_count:]\n",
    "            #Ajoute les elements dans les listes\n",
    "            X_train.extend(X[train_indices])\n",
    "            X_test.extend(X[test_indices])\n",
    "            y_train.extend(y[train_indices])\n",
    "            y_test.extend(y[test_indices])\n",
    "        \n",
    "        return np.array(X_train), np.array(X_test), np.array(y_train), np.array(y_test)\n",
    "    \n",
    "    else:\n",
    "        # Reparti les donnes dans le train et le test de manière aléatoire\n",
    "        indices = np.arange(len(X))\n",
    "        np.random.shuffle(indices)\n",
    "        \n",
    "        test_count = int(len(X) * test_size)\n",
    "        test_indices = indices[:test_count]\n",
    "        train_indices = indices[test_count:]\n",
    "        \n",
    "        return X[train_indices], X[test_indices], y[train_indices], y[test_indices]\n",
    "\n"
   ]
  },
  {
   "cell_type": "code",
   "execution_count": 15,
   "metadata": {},
   "outputs": [
    {
     "name": "stdout",
     "output_type": "stream",
     "text": [
      "Taille de X_train: 20, X_test: 80\n",
      "Taille de y_train: 20, y_test: 80\n"
     ]
    }
   ],
   "source": [
    "# Exemple d'utilisation\n",
    "X = [[i] for i in range(100)]\n",
    "y = [i % 2 for i in range(100)]  # Classes binaires\n",
    "\n",
    "X_train, X_test, y_train, y_test = custom_train_test_split(X, y, test_size=0.8, random_state=42, stratify=y)\n",
    "\n",
    "print(f\"Taille de X_train: {len(X_train)}, X_test: {len(X_test)}\")\n",
    "print(f\"Taille de y_train: {len(y_train)}, y_test: {len(y_test)}\")\n"
   ]
  },
  {
   "cell_type": "code",
   "execution_count": null,
   "metadata": {},
   "outputs": [
    {
     "name": "stdout",
     "output_type": "stream",
     "text": [
      "[ 1  2  3  4 10] [3 2 1 1 1]\n"
     ]
    }
   ],
   "source": [
    "np.arange(2)\n",
    "unique_classes, class_counts = np.unique([1,1,1,2,2,3,4,10],return_counts=True)\n",
    "print(unique_classes, class_counts)"
   ]
  },
  {
   "cell_type": "markdown",
   "metadata": {},
   "source": [
    "# Determiner quel type de caracteristique"
   ]
  },
  {
   "cell_type": "code",
   "execution_count": null,
   "metadata": {},
   "outputs": [],
   "source": []
  },
  {
   "cell_type": "markdown",
   "metadata": {},
   "source": [
    "# Accuracy"
   ]
  },
  {
   "cell_type": "code",
   "execution_count": 18,
   "metadata": {},
   "outputs": [],
   "source": [
    "def accuracy_metric(y_test, y_predicted):\n",
    "\tcorrect = 0\n",
    "\tfor i in range(len(y_test)):\n",
    "\t\tif y_test[i] == y_predicted[i]:\n",
    "\t\t\tcorrect += 1\n",
    "\treturn correct / float(len(y_test)) * 100.0"
   ]
  }
 ],
 "metadata": {
  "kernelspec": {
   "display_name": "Python 3",
   "language": "python",
   "name": "python3"
  },
  "language_info": {
   "codemirror_mode": {
    "name": "ipython",
    "version": 3
   },
   "file_extension": ".py",
   "mimetype": "text/x-python",
   "name": "python",
   "nbconvert_exporter": "python",
   "pygments_lexer": "ipython3",
   "version": "3.13.1"
  }
 },
 "nbformat": 4,
 "nbformat_minor": 2
}
