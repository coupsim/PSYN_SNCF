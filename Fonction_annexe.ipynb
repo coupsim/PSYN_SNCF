{
 "cells": [
  {
   "cell_type": "code",
   "execution_count": 11,
   "metadata": {},
   "outputs": [],
   "source": [
    "import numpy as np\n",
    "import pandas as pd\n",
    "import random"
   ]
  },
  {
   "cell_type": "markdown",
   "metadata": {},
   "source": [
    "# train_split_test"
   ]
  },
  {
   "cell_type": "code",
   "execution_count": null,
   "metadata": {},
   "outputs": [],
   "source": [
    "def custom_X_Y_train_X_Y_test_split(X, y, test_size, random_state, stratify=None):\n",
    "    np.random.seed(random_state)\n",
    "    \n",
    "    if isinstance(X, pd.DataFrame):\n",
    "        columns = X.columns  # Sauvegarder les noms des colonnes\n",
    "    else:\n",
    "        columns = None  # Gérer les cas où X n'est pas un DataFrame\n",
    "    \n",
    "    X = np.array(X)\n",
    "    y = np.array(y)\n",
    "    \n",
    "    if stratify is not None:\n",
    "        unique_classes, class_counts = np.unique(y, return_counts=True)\n",
    "        X_train, X_test, y_train, y_test = [], [], [], []\n",
    "        \n",
    "        for class_label, count in zip(unique_classes, class_counts):\n",
    "            indices = np.where(y == class_label)[0]\n",
    "            np.random.shuffle(indices)\n",
    "            test_count = int(count * test_size)\n",
    "            test_indices = indices[:test_count]\n",
    "            train_indices = indices[test_count:]\n",
    "            \n",
    "            X_train.extend(X[train_indices])\n",
    "            X_test.extend(X[test_indices])\n",
    "            y_train.extend(y[train_indices])\n",
    "            y_test.extend(y[test_indices])\n",
    "        \n",
    "        X_train, X_test = np.array(X_train), np.array(X_test)\n",
    "        \n",
    "    else:\n",
    "        indices = np.arange(len(X))\n",
    "        np.random.shuffle(indices)\n",
    "        test_count = int(len(X) * test_size)\n",
    "        test_indices = indices[:test_count]\n",
    "        train_indices = indices[test_count:]\n",
    "        X_train, X_test = X[train_indices], X[test_indices]\n",
    "        y_train, y_test = y[train_indices], y[test_indices]\n",
    "    \n",
    "    if columns is not None:\n",
    "        X_train = pd.DataFrame(X_train, columns=columns)\n",
    "        X_test = pd.DataFrame(X_test, columns=columns)\n",
    "    \n",
    "    return X_train, X_test, np.array(y_train), np.array(y_test)"
   ]
  },
  {
   "cell_type": "code",
   "execution_count": null,
   "metadata": {},
   "outputs": [],
   "source": [
    "def custom_X_Y_train_X_Y_test_split(X, y, test_size, random_state, stratify=None):\n",
    "    np.random.seed(random_state)\n",
    "    \n",
    "    if isinstance(X, pd.DataFrame):\n",
    "        columns = X.columns  # Sauvegarder les noms des colonnes\n",
    "    else:\n",
    "        columns = None  # Gérer les cas où X n'est pas un DataFrame\n",
    "    \n",
    "    X = np.array(X)\n",
    "    y = np.array(y)\n",
    "    \n",
    "    if stratify is not None:\n",
    "        unique_classes, class_counts = np.unique(y, return_counts=True)\n",
    "        X_train, X_test, y_train, y_test = [], [], [], []\n",
    "        \n",
    "        for class_label, count in zip(unique_classes, class_counts):\n",
    "            indices = np.where(y == class_label)[0]\n",
    "            np.random.shuffle(indices)\n",
    "            test_count = int(count * test_size)\n",
    "            test_indices = indices[:test_count]\n",
    "            train_indices = indices[test_count:]\n",
    "            \n",
    "            X_train.extend(X[train_indices])\n",
    "            X_test.extend(X[test_indices])\n",
    "            y_train.extend(y[train_indices])\n",
    "            y_test.extend(y[test_indices])\n",
    "        \n",
    "        X_train, X_test = np.array(X_train), np.array(X_test)\n",
    "        \n",
    "    else:\n",
    "        indices = np.arange(len(X))\n",
    "        np.random.shuffle(indices)\n",
    "        test_count = int(len(X) * test_size)\n",
    "        test_indices = indices[:test_count]\n",
    "        train_indices = indices[test_count:]\n",
    "        X_train, X_test = X[train_indices], X[test_indices]\n",
    "        y_train, y_test = y[train_indices], y[test_indices]\n",
    "    \n",
    "    if columns is not None:\n",
    "        X_train = pd.DataFrame(X_train, columns=columns)\n",
    "        X_test = pd.DataFrame(X_test, columns=columns)\n",
    "    \n",
    "    return X_train, X_test, np.array(y_train), np.array(y_test)"
   ]
  },
  {
   "cell_type": "code",
   "execution_count": null,
   "metadata": {},
   "outputs": [],
   "source": [
    "def custom_train_test_split_stratify(df, test_size, stratify, random_state=None):\n",
    "    if random_state is not None:\n",
    "        random.seed(random_state)  # Assurer la reproductibilité\n",
    "    \n",
    "    if isinstance(test_size, float):\n",
    "        test_size = round(test_size * len(df))\n",
    "    \n",
    "    unique_classes, class_counts = np.unique(df[stratify], return_counts=True)\n",
    "    train_indices, test_indices = [], []\n",
    "    \n",
    "    for class_label, count in zip(unique_classes, class_counts):\n",
    "        class_indices = df[df[stratify] == class_label].index.tolist()\n",
    "        random.shuffle(class_indices)\n",
    "        test_count = round(test_size * (count / len(df)))  # Proportionnel au nombre d'échantillons par classe\n",
    "        test_indices.extend(class_indices[:test_count])\n",
    "        train_indices.extend(class_indices[test_count:])\n",
    "    \n",
    "    test_df = df.loc[test_indices].reset_index(drop=True)\n",
    "    train_df = df.loc[train_indices].reset_index(drop=True)\n",
    "    \n",
    "    return train_df, test_df"
   ]
  },
  {
   "cell_type": "code",
   "execution_count": null,
   "metadata": {},
   "outputs": [],
   "source": [
    "df_train,df_test = custom_train_test_split_stratify(df, test_size=0.8,stratify=y,random_state=42,)\n",
    "len(df_train)\n",
    "df_train"
   ]
  },
  {
   "cell_type": "code",
   "execution_count": 21,
   "metadata": {},
   "outputs": [],
   "source": [
    "def custom_train_test_split(df, test_size):\n",
    "    \n",
    "    if isinstance(test_size, float):\n",
    "        test_size = round(test_size * len(df))\n",
    "\n",
    "    indices = df.index.tolist()\n",
    "    test_indices = random.sample(population=indices, k=test_size)\n",
    "\n",
    "    test_df = df.loc[test_indices]\n",
    "    train_df = df.drop(test_indices)\n",
    "    \n",
    "    return train_df, test_df\n",
    "    "
   ]
  },
  {
   "cell_type": "code",
   "execution_count": 22,
   "metadata": {},
   "outputs": [
    {
     "name": "stdout",
     "output_type": "stream",
     "text": [
      "Train DataFrame :\n",
      "   Feature1  Feature2 Label\n",
      "0        10         5     A\n",
      "1        20        15     B\n",
      "2        30        25     A\n",
      "4        50        45     A\n",
      "5        60        55     B\n",
      "7        80        75     B\n",
      "9       100        95     B\n",
      "\n",
      "Test DataFrame :\n",
      "   Feature1  Feature2 Label\n",
      "8        90        85     A\n",
      "3        40        35     B\n",
      "6        70        65     A\n"
     ]
    }
   ],
   "source": [
    "# Exemple de DataFrame\n",
    "data = {\n",
    "    'Feature1': [10, 20, 30, 40, 50, 60, 70, 80, 90, 100],\n",
    "    'Feature2': [5, 15, 25, 35, 45, 55, 65, 75, 85, 95],\n",
    "    'Label': [\"A\", \"B\", \"A\", \"B\", \"A\", \"B\", \"A\", \"B\", \"A\", \"B\"]\n",
    "}\n",
    "df = pd.DataFrame(data)\n",
    "\n",
    "# Séparer le DataFrame en 70% train et 30% test\n",
    "train_df_2, test_df_2 = custom_train_test_split(df, test_size=0.3)\n",
    "\n",
    "print(\"Train DataFrame :\")\n",
    "print(train_df_2)\n",
    "\n",
    "print(\"\\nTest DataFrame :\")\n",
    "print(test_df_2)"
   ]
  },
  {
   "cell_type": "code",
   "execution_count": 18,
   "metadata": {},
   "outputs": [],
   "source": [
    "def custom_train_test_split_stratify(df, test_size, stratify=None, random_state=None):\n",
    "    if random_state is not None:\n",
    "        random.seed(random_state)  # Assurer la reproductibilité\n",
    "    \n",
    "    if isinstance(test_size, float):\n",
    "        test_size = round(test_size * len(df))\n",
    "    \n",
    "    if stratify is not None:\n",
    "        unique_classes, class_counts = np.unique(df[stratify], return_counts=True)\n",
    "        train_indices, test_indices = [], []\n",
    "        \n",
    "        for class_label, count in zip(unique_classes, class_counts):\n",
    "            class_indices = df[df[stratify] == class_label].index.tolist()\n",
    "            random.shuffle(class_indices)\n",
    "            test_count = round(test_size * (count / len(df)))  # Proportionnel au nombre d'échantillons par classe\n",
    "            test_indices.extend(class_indices[:test_count])\n",
    "            train_indices.extend(class_indices[test_count:])\n",
    "        \n",
    "    else:\n",
    "        indices = df.index.tolist()\n",
    "        random.shuffle(indices)\n",
    "        test_indices = indices[:test_size]\n",
    "        train_indices = indices[test_size:]\n",
    "    \n",
    "    test_df = df.loc[test_indices]\n",
    "    train_df = df.loc[train_indices]\n",
    "    \n",
    "    return train_df, test_df"
   ]
  },
  {
   "cell_type": "code",
   "execution_count": 20,
   "metadata": {},
   "outputs": [
    {
     "name": "stdout",
     "output_type": "stream",
     "text": [
      "Class\n",
      "A    0.5\n",
      "B    0.5\n",
      "Name: proportion, dtype: float64\n",
      "Class\n",
      "A    0.5\n",
      "B    0.5\n",
      "Name: proportion, dtype: float64\n"
     ]
    }
   ],
   "source": [
    "\n",
    "# Création d'un DataFrame exemple\n",
    "data = {\n",
    "    'Feature1': range(20),\n",
    "    'Class': ['A'] * 10 + ['B'] * 10  # 10 'A' et 10 'B'\n",
    "}\n",
    "df = pd.DataFrame(data)\n",
    "\n",
    "# Split en respectant la proportion des classes\n",
    "train_df, test_df = custom_train_test_split_stratify(df, test_size=0.3, stratify='Class', random_state=42)\n",
    "\n",
    "# Vérification des proportions\n",
    "print(train_df['Class'].value_counts(normalize=True))\n",
    "print(test_df['Class'].value_counts(normalize=True))\n"
   ]
  },
  {
   "cell_type": "code",
   "execution_count": 15,
   "metadata": {},
   "outputs": [
    {
     "name": "stdout",
     "output_type": "stream",
     "text": [
      "[ 1  2  3  4 10] [3 2 1 1 1]\n"
     ]
    }
   ],
   "source": [
    "np.arange(2)\n",
    "unique_classes, class_counts = np.unique([1,1,1,2,2,3,4,10],return_counts=True)\n",
    "print(unique_classes, class_counts)"
   ]
  },
  {
   "cell_type": "markdown",
   "metadata": {},
   "source": [
    "# Determiner quel type de caracteristique"
   ]
  },
  {
   "cell_type": "code",
   "execution_count": null,
   "metadata": {},
   "outputs": [],
   "source": []
  },
  {
   "cell_type": "markdown",
   "metadata": {},
   "source": [
    "# Accuracy"
   ]
  },
  {
   "cell_type": "code",
   "execution_count": null,
   "metadata": {},
   "outputs": [],
   "source": [
    "def accuracy_metric(y_test, y_predicted):\n",
    "\tcorrect = 0\n",
    "\tfor i in range(len(y_test)):\n",
    "\t\tif y_test[i] == y_predicted[i]:\n",
    "\t\t\tcorrect += 1\n",
    "\treturn correct / float(len(y_test)) * 100.0"
   ]
  }
 ],
 "metadata": {
  "kernelspec": {
   "display_name": "Python 3",
   "language": "python",
   "name": "python3"
  },
  "language_info": {
   "codemirror_mode": {
    "name": "ipython",
    "version": 3
   },
   "file_extension": ".py",
   "mimetype": "text/x-python",
   "name": "python",
   "nbconvert_exporter": "python",
   "pygments_lexer": "ipython3",
   "version": "3.13.1"
  }
 },
 "nbformat": 4,
 "nbformat_minor": 2
}
